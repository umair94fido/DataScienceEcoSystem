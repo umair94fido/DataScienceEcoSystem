{
 "cells": [
  {
   "cell_type": "markdown",
   "id": "a356f11b-2fe4-4cba-96c5-992944901b29",
   "metadata": {},
   "source": [
    "# Data Science Tools and Ecosystem"
   ]
  },
  {
   "cell_type": "markdown",
   "id": "49fa7bb0-c388-46a5-944c-59f8955b9c77",
   "metadata": {},
   "source": [
    "In this notebook, Data Science Tools and Ecosystem are summarized."
   ]
  },
  {
   "cell_type": "markdown",
   "id": "481ff458-494a-4404-8ce9-a19d7b5a4b0b",
   "metadata": {},
   "source": [
    "Some of the popular languages that Data Scientists use are:\n",
    "\n",
    "1. Python\n",
    "2. R\n",
    "3. SQL\n",
    "4. Julia\n",
    "5. Scala"
   ]
  },
  {
   "cell_type": "markdown",
   "id": "090592a5-71aa-47f4-a6c2-fcb4ef583c43",
   "metadata": {},
   "source": [
    "Some of the commonly used libraries used by Data Scientists include:\n",
    "\n",
    "1. Numpy\n",
    "2. Pandas\n",
    "3. Matplotlib\n",
    "4. Scipy\n",
    "5. TensorFlow\n"
   ]
  },
  {
   "cell_type": "markdown",
   "id": "cf90076b-48e8-4024-82d8-b29fce156f91",
   "metadata": {},
   "source": [
    "**Objectives:**\n",
    "\n",
    "- Languages\n",
    "- Libraries\n",
    "- Headings\n",
    "- Mathematical Operations"
   ]
  },
  {
   "cell_type": "markdown",
   "id": "4b75b2f1-0dca-48d5-80d6-77bd8eb18aca",
   "metadata": {},
   "source": [
    "|Data Science Tools|\n",
    "|------------------|\n",
    "|Python|\n",
    "|RStudio|\n",
    "|Apache Spark|"
   ]
  },
  {
   "cell_type": "markdown",
   "id": "8001621a-230a-4e31-b826-cee741b323af",
   "metadata": {},
   "source": [
    "### Below are a few examples of evaluating arithmetic expressions in Python"
   ]
  },
  {
   "cell_type": "code",
   "execution_count": 1,
   "id": "f024e455-7cfd-460d-a790-1fa6baa5d356",
   "metadata": {
    "tags": []
   },
   "outputs": [
    {
     "data": {
      "text/plain": [
       "17"
      ]
     },
     "execution_count": 1,
     "metadata": {},
     "output_type": "execute_result"
    }
   ],
   "source": [
    "#This a simple arithmetic expression to mutiply then add integers\n",
    "\n",
    "(3*4)+5"
   ]
  },
  {
   "cell_type": "code",
   "execution_count": 2,
   "id": "2fec4451-989d-49f0-bc00-dc99373dc0d2",
   "metadata": {
    "tags": []
   },
   "outputs": [
    {
     "data": {
      "text/plain": [
       "3.3333333333333335"
      ]
     },
     "execution_count": 2,
     "metadata": {},
     "output_type": "execute_result"
    }
   ],
   "source": [
    "#This will convert 200 minutes to hours by diving by 60.\n",
    "\n",
    "200/60"
   ]
  },
  {
   "cell_type": "markdown",
   "id": "7a3cc78a-9f4f-4c73-aa72-82a9d5404e93",
   "metadata": {},
   "source": [
    "## Author\n",
    "SYED UMAIR AHMED"
   ]
  },
  {
   "cell_type": "code",
   "execution_count": null,
   "id": "76c09754-7495-435e-bbd8-7aa51bf8da8f",
   "metadata": {},
   "outputs": [],
   "source": []
  }
 ],
 "metadata": {
  "kernelspec": {
   "display_name": "Python",
   "language": "python",
   "name": "conda-env-python-py"
  },
  "language_info": {
   "codemirror_mode": {
    "name": "ipython",
    "version": 3
   },
   "file_extension": ".py",
   "mimetype": "text/x-python",
   "name": "python",
   "nbconvert_exporter": "python",
   "pygments_lexer": "ipython3",
   "version": "3.7.12"
  }
 },
 "nbformat": 4,
 "nbformat_minor": 5
}
